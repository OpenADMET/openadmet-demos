{
 "cells": [
  {
   "cell_type": "markdown",
   "id": "17bc97c1",
   "metadata": {},
   "source": [
    "# 5.0 Model Inference\n",
    "\n",
    "## What is Model Inference? The Best Part!\n",
    "Plainly, model inference is using a trained model to make predictions on new data.  \n",
    "\n",
    "Practically, model inference is the step that is likely most important and interesting to those working in clinical drug development.  \n",
    "\n",
    "This is when we use our best performing trained ADMET model to predict the activity on a set of new compounds.  \n",
    "\n",
    "## Using ADMET models in Real World Drug Development\n",
    "In this CYP3A4 example, let's say that we are interested in screening for compounds that inhibit CYP3A4 because we want to remove them from our pool of leads.  \n",
    "\n",
    "In this scenario, our pool of leads is >100,000 theoretical compounds. These compounds have not yet been synthesized for lab testing and it would be too resource intensive to synthesize and empirically measure CYP inhibition behaviour of all of them.  \n",
    "\n",
    "This is where the utility of ADMET models really shines.  \n",
    "\n",
    "Before even stepping into the lab and solely with the SMILES strings of the 100k+ compounds, we can use our trained ADMET model as a screening tool to narrow down pool to only the most promising leads.  \n",
    "\n",
    "After having trained a couple of models on ChEMBL CYP3A4 data and compared their performances, we've now picked our best performing model: the ensemble LGBM model.  \n",
    "\n",
    "We can now predict the inhibition activity of our pool of lead compounds. In this demo notebook, we've sampled a small subset of compounds from the [Enamine Diversity](https://enamine.net/compound-libraries/diversity-libraries/dds-10240) & [FDA-Approved Drug](https://enamine.net/compound-libraries/bioactive-libraries/fda-approved-drugs-collection) decks to serve as the compounds we're interested in screening. This combines a deck with diverse lead-like chemistry and some existing approved drugs we may want to repurpose. \n",
    "\n",
    "### Requirements\n",
    "For this demo, you will need:\n",
    "1. A model trained in anvil\n",
    "2. A dataset of compounds unseen by the model. The dataset must contain a column of SMILES strings.\n",
    "\n",
    "## [OPTIONAL] Data Cleaning\n",
    "You may want to do some data cleaning prior to model prediction, i.e. standardizing the SMILES strings and dropping any duplicates. We have done that already with `discovery_compounds.csv`."
   ]
  },
  {
   "cell_type": "markdown",
   "id": "8be5aa4d",
   "metadata": {},
   "source": [
    "## Use Anvil to predict on the new set of compounds\n",
    "As with training models with Anvil, doing model inference is also a simple command with the following arguments:\n",
    "```bash\n",
    "    openadmet predict \\\n",
    "        --input-path <the path to the data to predict on> \\\n",
    "        --input-col <the column to of the data to predict on, often SMILES> \\\n",
    "        --model-dir <the anvil_training directory of the model to predict with> \\\n",
    "        --output-csv <the path to an output CSV to save the predictions to> \\\n",
    "        --accelerator <whether to use gpu or cpu, defaults to gpu>\n",
    "```"
   ]
  },
  {
   "cell_type": "code",
   "execution_count": 2,
   "id": "27215401",
   "metadata": {},
   "outputs": [
    {
     "name": "stderr",
     "output_type": "stream",
     "text": [
      "/home/hmacdope/mambaforge/envs/openadmet-demos2/lib/python3.12/site-packages/hyperopt/atpe.py:19: UserWarning: pkg_resources is deprecated as an API. See https://setuptools.pypa.io/en/latest/pkg_resources.html. The pkg_resources package is slated for removal as early as 2025-11-30. Refrain from using this package or pin to Setuptools<81.\n",
      "  import pkg_resources\n",
      "/home/hmacdope/mambaforge/envs/openadmet-demos2/lib/python3.12/site-packages/pydantic/_internal/_generate_schema.py:2249: UnsupportedFieldAttributeWarning: The 'repr' attribute with value False was provided to the `Field()` function, which has no effect in the context it was used. 'repr' is field-specific metadata, and can only be attached to a model field using `Annotated` metadata or by assignment. This may have happened because an `Annotated` type alias using the `type` statement was used, or if the `Field()` function was attached to a single member of a union type.\n",
      "  warnings.warn(\n",
      "/home/hmacdope/mambaforge/envs/openadmet-demos2/lib/python3.12/site-packages/pydantic/_internal/_generate_schema.py:2249: UnsupportedFieldAttributeWarning: The 'frozen' attribute with value True was provided to the `Field()` function, which has no effect in the context it was used. 'frozen' is field-specific metadata, and can only be attached to a model field using `Annotated` metadata or by assignment. This may have happened because an `Annotated` type alias using the `type` statement was used, or if the `Field()` function was attached to a single member of a union type.\n",
      "  warnings.warn(\n",
      "2025-10-18 11:18:10.685 | INFO     | openadmet.models.inference.inference:predict:174 - Starting prediction\n",
      "2025-10-18 11:18:10.685 | INFO     | openadmet.models.inference.inference:predict:175 - Input path: discovery_compounds.csv\n",
      "2025-10-18 11:18:10.685 | INFO     | openadmet.models.inference.inference:predict:176 - Model directories: ('../04_Ensemble_Model_Training/ensemble',)\n",
      "2025-10-18 11:18:10.685 | INFO     | openadmet.models.inference.inference:predict:177 - Write CSV: True\n",
      "2025-10-18 11:18:10.685 | INFO     | openadmet.models.inference.inference:predict:178 - Output CSV: predictions.csv\n",
      "2025-10-18 11:18:10.685 | INFO     | openadmet.models.inference.inference:predict:179 - Input column: OPENADMET_CANONICAL_SMILES\n",
      "2025-10-18 11:18:10.685 | INFO     | openadmet.models.inference.inference:predict:180 - Accelerator: cpu\n",
      "2025-10-18 11:18:10.686 | INFO     | openadmet.models.inference.inference:predict:204 - Model directories: ('../04_Ensemble_Model_Training/ensemble',)\n",
      "2025-10-18 11:18:10.686 | INFO     | openadmet.models.inference.inference:predict:214 - Loading model 0 from ../04_Ensemble_Model_Training/ensemble\n",
      "2025-10-18 11:18:10.945 | INFO     | openadmet.models.active_learning.committee:_load_calibration_model:417 - Successfully loaded calibration from ../04_Ensemble_Model_Training/ensemble/calibration_model.pkl\n",
      "2025-10-18 11:18:10.945 | INFO     | openadmet.models.inference.inference:predict:222 - Loaded model ensemble 0 from ../04_Ensemble_Model_Training/ensemble, with 5 submodels\n",
      "2025-10-18 11:18:10.945 | INFO     | openadmet.models.inference.inference:predict:229 - Model 0 has tasks: ['OPENADMET_LOGAC50']\n",
      "2025-10-18 11:18:10.945 | DEBUG    | openadmet.models.inference.inference:predict:231 - Model metadata:\n",
      "2025-10-18 11:18:10.945 | DEBUG    | openadmet.models.inference.inference:predict:232 - version='v1' driver='sklearn' name='lgbm_pchembl' build_number=0 description='basic regression using a LightGBM model' tag='openadmet-chembl' authors='Your Name' email='youremail@email.com' biotargets=['CYP3A4'] tags=['openadmet', 'test', 'pchembl']\n",
      "2025-10-18 11:18:10.945 | DEBUG    | openadmet.models.inference.inference:predict:233 - Model: None\n",
      "2025-10-18 11:18:10.945 | DEBUG    | openadmet.models.inference.inference:predict:234 - Feature: featurizers=[DescriptorFeaturizer(descr_type='desc2d', dtype=<class 'numpy.float32'>, n_jobs=-1), FingerprintFeaturizer(fp_type='ecfp:4', dtype=<class 'numpy.float32'>, n_jobs=-1)]\n",
      "/home/hmacdope/mambaforge/envs/openadmet-demos2/lib/python3.12/site-packages/joblib/externals/loky/process_executor.py:782: UserWarning: A worker stopped while some jobs were given to the executor. This can be caused by a too short worker timeout or by a memory leak.\n",
      "  warnings.warn(\n",
      "/home/hmacdope/mambaforge/envs/openadmet-demos2/lib/python3.12/site-packages/sklearn/utils/validation.py:2739: UserWarning: X does not have valid feature names, but LGBMRegressor was fitted with feature names\n",
      "  warnings.warn(\n",
      "/home/hmacdope/mambaforge/envs/openadmet-demos2/lib/python3.12/site-packages/sklearn/utils/validation.py:2739: UserWarning: X does not have valid feature names, but LGBMRegressor was fitted with feature names\n",
      "  warnings.warn(\n",
      "/home/hmacdope/mambaforge/envs/openadmet-demos2/lib/python3.12/site-packages/sklearn/utils/validation.py:2739: UserWarning: X does not have valid feature names, but LGBMRegressor was fitted with feature names\n",
      "  warnings.warn(\n",
      "/home/hmacdope/mambaforge/envs/openadmet-demos2/lib/python3.12/site-packages/sklearn/utils/validation.py:2739: UserWarning: X does not have valid feature names, but LGBMRegressor was fitted with feature names\n",
      "  warnings.warn(\n",
      "/home/hmacdope/mambaforge/envs/openadmet-demos2/lib/python3.12/site-packages/sklearn/utils/validation.py:2739: UserWarning: X does not have valid feature names, but LGBMRegressor was fitted with feature names\n",
      "  warnings.warn(\n",
      "2025-10-18 11:18:30.049 | INFO     | openadmet.models.inference.inference:predict:277 - Predictions for model 0 task 0 saved to column 'OADMET_PRED_openadmet-chembl_OPENADMET_LOGAC50', std saved to column 'OADMET_STD_openadmet-chembl_OPENADMET_LOGAC50'\n",
      "2025-10-18 11:18:30.049 | INFO     | openadmet.models.inference.inference:predict:293 - Finished prediction\n",
      "2025-10-18 11:18:30.049 | INFO     | openadmet.models.inference.inference:predict:294 - Predictions saved to predictions.csv\n"
     ]
    }
   ],
   "source": [
    "%%bash\n",
    "export OADMET_NO_RICH_LOGGING=1\n",
    "\n",
    "openadmet predict \\\n",
    "    --input-path discovery_compounds.csv \\\n",
    "    --input-col OPENADMET_CANONICAL_SMILES \\\n",
    "    --model-dir ../04_Ensemble_Model_Training/ensemble \\\n",
    "    --output-csv predictions.csv \\\n",
    "    --accelerator cpu"
   ]
  },
  {
   "cell_type": "markdown",
   "id": "264659af",
   "metadata": {},
   "source": [
    "## Analyze your predictions\n",
    "With the newly created `predictions.csv` file, you can now perform any data analysis you like to find which compounds are worth further exploring."
   ]
  },
  {
   "cell_type": "code",
   "execution_count": null,
   "id": "d8d67d58",
   "metadata": {},
   "outputs": [],
   "source": [
    "import seaborn as sns\n",
    "import matplotlib.pyplot as plt\n",
    "import pandas as pd\n",
    "import numpy as np\n",
    "\n",
    "df = pd.read_csv(\"predictions.csv\").sort_values(\"OADMET_PRED_openadmet-chembl_OPENADMET_LOGAC50\")\n",
    "\n",
    "plt.figure()\n",
    "sns.histplot(data=df, x='OADMET_PRED_openadmet-chembl_OPENADMET_LOGAC50')\n",
    "plt.xlabel(\"Predicted pIC50\")\n",
    "plt.title(\"Distribution of predicted pIC50s\")"
   ]
  },
  {
   "cell_type": "markdown",
   "id": "3742851d",
   "metadata": {},
   "source": [
    "Because we are using an ensemble model for predictions, we can also visualize the uncertainty of our predictions by adding error bars."
   ]
  },
  {
   "cell_type": "code",
   "execution_count": null,
   "id": "2d04b7c3",
   "metadata": {},
   "outputs": [],
   "source": [
    "plt.figure(figsize=(10,8))\n",
    "plt.errorbar(\n",
    "    y=df['OADMET_PRED_openadmet-chembl_OPENADMET_LOGAC50'],\n",
    "    x=np.arange(len(df)),\n",
    "    yerr=df['OADMET_STD_openadmet-chembl_OPENADMET_LOGAC50'],\n",
    "    fmt='o',\n",
    "    ecolor='darkred',\n",
    "    alpha=0.6,\n",
    "    capsize=3\n",
    ")\n",
    "plt.ylabel(\"Predicted pIC50\")\n",
    "plt.xlabel(\"Compound ID\")\n",
    "\n",
    "\n",
    "\n",
    "plt.title(\"Predicted pIC50s with error bars\")\n",
    "plt.show()"
   ]
  },
  {
   "cell_type": "markdown",
   "id": "c386e8d1",
   "metadata": {},
   "source": [
    "For this CYP3A4 example, let's focus on the point highlighted in the green rectangle.\n",
    "\n",
    "<div>\n",
    "<img src=\"static/pIC50_annotated.png\" alt=\"ANOVA\" width=\"500\"/>.    \n",
    "</div>\n",
    "\n",
    "The compound with a predicted pIC50 = 6.0 will have an inhibitory effect on CYP3A4 at a concentration of 1 $\\mu M$. However, given the uncertainty estimation we have from our ensemble model, the predicted interval actually spans pIC50 of approximately 4.5 - 7.1. In other words, it's likely that the actual pIC50 of this compound falls anywhere within the 4.5 - 7.1 pIC50 range, or the 10 mM - 10 $\\mu M$ range. Thats 3 log units or almost 3 orders of magnitude! Our model is not very sure about this compound at all. This is why it is so important to try predict the error in your model alongside predicted activity and to make sure that uncertainty is as accurate as possible.\n",
    "\n",
    "Depending on your specific use-case, this compound and the other high activity compounds may still be worth examining more closely. The molecular structures are displayed from most active to least active below. A molecule with a CYP3A4 pIC50 of 6 (IC50 of 1 uM)like we are seeing at the top range here is unlikely to do well in further development (if real)."
   ]
  },
  {
   "cell_type": "code",
   "execution_count": null,
   "id": "c69da8d0",
   "metadata": {},
   "outputs": [],
   "source": [
    "import mols2grid\n",
    "\n",
    "df_sorted = df.sort_values('OADMET_PRED_openadmet-chembl_OPENADMET_LOGAC50', ascending=False)\n",
    "mols2grid.display(df_sorted, smiles_col=\"OPENADMET_CANONICAL_SMILES\")"
   ]
  },
  {
   "cell_type": "markdown",
   "id": "a5082ecc-f2d7-47c3-b3ca-c359db436e66",
   "metadata": {},
   "source": [
    "## We  don't have enough data!\n",
    "\n",
    "OpenADMET is aiming to collect a lot more of this data! This will allow us to test the generalizability of our current models and build better models going forward! Stay up to date on our [website](https://openadmet.org/)!\n"
   ]
  },
  {
   "cell_type": "markdown",
   "id": "db8aefeb",
   "metadata": {},
   "source": [
    "~ End of `05_Model_Ensemble_Inference` ~"
   ]
  }
 ],
 "metadata": {
  "kernelspec": {
   "display_name": "Python 3 (ipykernel)",
   "language": "python",
   "name": "python3"
  },
  "language_info": {
   "codemirror_mode": {
    "name": "ipython",
    "version": 3
   },
   "file_extension": ".py",
   "mimetype": "text/x-python",
   "name": "python",
   "nbconvert_exporter": "python",
   "pygments_lexer": "ipython3",
   "version": "3.12.12"
  }
 },
 "nbformat": 4,
 "nbformat_minor": 5
}
