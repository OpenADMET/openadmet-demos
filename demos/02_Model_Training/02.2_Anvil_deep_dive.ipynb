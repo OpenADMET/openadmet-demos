{
 "cells": [
  {
   "cell_type": "code",
   "execution_count": 5,
   "id": "91701ac5-833d-4cc8-9d6a-1dc2b311a052",
   "metadata": {},
   "outputs": [],
   "source": [
    "from openadmet.models.anvil.workflow import AnvilWorkflow, AnvilDeepLearningWorkflow\n"
   ]
  },
  {
   "cell_type": "markdown",
   "id": "3258a9a3-d01d-4672-b955-44223bce28fd",
   "metadata": {},
   "source": [
    "# 2.1 Anvil walkthrough\n",
    "\n",
    "## Sections in an Anvil Workflow \n",
    "\n",
    "\n",
    "First lets look at the Anvil workflow class normally used for training a traditional ML model (e.g an LGBM). You can see it contains a series of sub-schema ([Pydantic schema](https://docs.pydantic.dev/latest/) at their core) that correspond to the diagram above, with all of the requisite steps for training and evaluating a model. Each of the steps has a required API that makes it interoperable with the upstream and downstream sections of the workflow."
   ]
  },
  {
   "cell_type": "code",
   "execution_count": 3,
   "id": "7a09432d-609c-4333-a399-90d137708111",
   "metadata": {},
   "outputs": [
    {
     "data": {
      "text/plain": [
       "\u001b[31mInit signature:\u001b[39m\n",
       "AnvilWorkflow(\n",
       "    *,\n",
       "    metadata: openadmet.models.anvil.specification.Metadata,\n",
       "    data_spec: openadmet.models.anvil.specification.DataSpec,\n",
       "    transform: Optional[openadmet.models.transforms.transform_base.TransformBase] = \u001b[38;5;28;01mNone\u001b[39;00m,\n",
       "    split: openadmet.models.split.split_base.SplitterBase,\n",
       "    feat: openadmet.models.features.feature_base.FeaturizerBase,\n",
       "    model: openadmet.models.architecture.model_base.ModelBase,\n",
       "    ensemble: openadmet.models.active_learning.ensemble_base.EnsembleBase | \u001b[38;5;28;01mNone\u001b[39;00m = \u001b[38;5;28;01mNone\u001b[39;00m,\n",
       "    trainer: openadmet.models.trainer.trainer_base.TrainerBase,\n",
       "    evals: list[openadmet.models.eval.eval_base.EvalBase],\n",
       "    parent_spec: openadmet.models.anvil.specification.AnvilSpecification,\n",
       "    debug: bool = \u001b[38;5;28;01mFalse\u001b[39;00m,\n",
       "    driver: openadmet.models.anvil.Drivers = <Drivers.SKLEARN: \u001b[33m'sklearn'\u001b[39m>,\n",
       ") -> \u001b[38;5;28;01mNone\u001b[39;00m\n",
       "\u001b[31mDocstring:\u001b[39m      Workflow for running basic Anvil configuration.\n",
       "\u001b[31mInit docstring:\u001b[39m\n",
       "Create a new model by parsing and validating input data from keyword arguments.\n",
       "\n",
       "Raises [`ValidationError`][pydantic_core.ValidationError] if the input data cannot be\n",
       "validated to form a valid model.\n",
       "\n",
       "`self` is explicitly positional-only to allow `self` as a field name.\n",
       "\u001b[31mFile:\u001b[39m           /store/projects/OpenADMET/openadmet-toolkit/openadmet-models/openadmet/models/anvil/workflow.py\n",
       "\u001b[31mType:\u001b[39m           ModelMetaclass\n",
       "\u001b[31mSubclasses:\u001b[39m     "
      ]
     },
     "metadata": {},
     "output_type": "display_data"
    }
   ],
   "source": [
    "AnvilWorkflow?"
   ]
  },
  {
   "cell_type": "markdown",
   "id": "e220102e-1a48-4d3f-82aa-adb6fa86aa4a",
   "metadata": {},
   "source": [
    "Lets construct just one sub-section of the workflow  the **Metadata section**. This section is designed to capture the **who** **what** and **why** of this workflow. As we are building a model of CYP inhibition from our pre-curated data, lets make sure we \n"
   ]
  },
  {
   "cell_type": "code",
   "execution_count": 7,
   "id": "296361aa-6524-4726-aea5-624359c01ad2",
   "metadata": {},
   "outputs": [
    {
     "data": {
      "text/plain": [
       "\u001b[31mInit signature:\u001b[39m\n",
       "Metadata(\n",
       "    *,\n",
       "    version: Literal[\u001b[33m'v1'\u001b[39m],\n",
       "    driver: str = \u001b[33m'sklearn'\u001b[39m,\n",
       "    name: str,\n",
       "    build_number: Annotated[int, Ge(ge=\u001b[32m0\u001b[39m)],\n",
       "    description: str,\n",
       "    tag: str,\n",
       "    authors: str,\n",
       "    email: pydantic.networks.EmailStr,\n",
       "    biotargets: list[str],\n",
       "    tags: list[str],\n",
       ") -> \u001b[38;5;28;01mNone\u001b[39;00m\n",
       "\u001b[31mDocstring:\u001b[39m     \n",
       "Metadata specification.\n",
       "\n",
       "Attributes\n",
       "----------\n",
       "version : Literal[\"v1\"]\n",
       "    The version of the metadata schema.\n",
       "driver : str\n",
       "    The driver for the workflow.\n",
       "name : str\n",
       "    The name of the workflow.\n",
       "build_number : int\n",
       "    The build number of the workflow (must be non-negative).\n",
       "description : str\n",
       "    Description of the workflow.\n",
       "tag : str\n",
       "    Primary tag for the workflow.\n",
       "authors : str\n",
       "    Name of the authors.\n",
       "email : EmailStr\n",
       "    Email address of the contact person.\n",
       "biotargets : list[str]\n",
       "    List of biotargets associated with the workflow.\n",
       "tags : list[str]\n",
       "    Additional tags for the workflow.\n",
       "\u001b[31mInit docstring:\u001b[39m\n",
       "Create a new model by parsing and validating input data from keyword arguments.\n",
       "\n",
       "Raises [`ValidationError`][pydantic_core.ValidationError] if the input data cannot be\n",
       "validated to form a valid model.\n",
       "\n",
       "`self` is explicitly positional-only to allow `self` as a field name.\n",
       "\u001b[31mFile:\u001b[39m           /store/projects/OpenADMET/openadmet-toolkit/openadmet-models/openadmet/models/anvil/specification.py\n",
       "\u001b[31mType:\u001b[39m           ModelMetaclass\n",
       "\u001b[31mSubclasses:\u001b[39m     "
      ]
     },
     "metadata": {},
     "output_type": "display_data"
    }
   ],
   "source": [
    "from openadmet.models.anvil.specification import Metadata\n",
    "Metadata?"
   ]
  },
  {
   "cell_type": "code",
   "execution_count": 8,
   "id": "5f1eabfc-d01c-4360-aa87-74ac3c22d595",
   "metadata": {},
   "outputs": [
    {
     "data": {
      "text/plain": [
       "Metadata(version='v1', driver='sklearn', name='CYP3A4-1st-attempt', build_number=0, description='trying out anvil on ChEMBL curated CYP3A4 data', tag='CYP3A4-attempt-1', authors='Jane ADMET', email='jane.admet@therapeutics.co', biotargets=['CYP3A4'], tags=['ChEMBL'])"
      ]
     },
     "execution_count": 8,
     "metadata": {},
     "output_type": "execute_result"
    }
   ],
   "source": [
    "metadata_instance = Metadata(version=\"v1\",\n",
    "                             build_number=0,\n",
    "                             name=\"CYP3A4-1st-attempt\",\n",
    "                             description=\"trying out anvil on ChEMBL curated CYP3A4 data\",\n",
    "                             tag=\"CYP3A4-attempt-1\",\n",
    "                             authors=\"Jane ADMET\",\n",
    "                             email=\"jane.admet@therapeutics.co\",\n",
    "                             biotargets=[\"CYP3A4\"],\n",
    "                             tags=[\"ChEMBL\"])\n",
    "metadata_instance"
   ]
  },
  {
   "cell_type": "markdown",
   "id": "823aea30-72ca-4e5a-a8e2-4219562c722b",
   "metadata": {},
   "source": [
    "We can see we have nicely constructed a metadata schema for our run. All of the possible options are contained in our detailed `Anvil` [reference guide](https://openadmet-models.readthedocs.io/en/latest/anvil_reference.html) \n",
    "\n",
    "**Lets make a few more sections**"
   ]
  },
  {
   "cell_type": "code",
   "execution_count": 9,
   "id": "f64a871e-9e87-402c-ab8d-275e970bcbaf",
   "metadata": {},
   "outputs": [],
   "source": [
    "# Data section \n",
    "\n",
    "from openadmet.models.anvil.specification import DataSpec\n",
    "data_instance = DataSpec(type=\"intake\", resource=\"../01_Data_Curation/processed_data/processed_CYP3A4_inhibition.csv\", target_cols=\"OPENADMET_LOGAC50\", input_col=\"OPENADMET_CANONICAL_SMILES\")"
   ]
  },
  {
   "cell_type": "markdown",
   "id": "cb9401cb-dbf4-4430-a41f-b1a89d0ce2db",
   "metadata": {},
   "source": [
    "Here we specified our curated ChEMBL CYP3A4 inhibition data to be read in. The `target_col` is our $y$ values or \"targets\" (here CYP3A4 pIC50s) the `input_col` is how we will read in our chemical structures "
   ]
  },
  {
   "cell_type": "code",
   "execution_count": 11,
   "id": "3d862148-7664-4b66-b74d-a374138d6955",
   "metadata": {},
   "outputs": [],
   "source": [
    "# Split section \n",
    "\n",
    "from openadmet.models.anvil.specification import SplitSpec\n",
    "\n",
    "split_spec = SplitSpec(type=\"L\")"
   ]
  },
  {
   "cell_type": "markdown",
   "id": "9990edae-3d24-4e95-aa6f-57545bb54dd3",
   "metadata": {},
   "source": [
    "Here we specified a simple random split of our data. You can use any of the classes in `openadmet.models.split`"
   ]
  },
  {
   "cell_type": "code",
   "execution_count": 13,
   "id": "e634aa26-608a-47be-b7d9-35b57c7ac1df",
   "metadata": {},
   "outputs": [],
   "source": [
    "# Model Section, LGBM gradient boosting regressor \n",
    "\n",
    "from openadmet.models.architecture.lgbm import LGBMRegressorModel\n",
    "\n",
    "model_instance = LGBMRegressorModel()"
   ]
  },
  {
   "cell_type": "markdown",
   "id": "e1f7dee6-813d-4332-8194-1ce6fa36d7b1",
   "metadata": {},
   "source": [
    "We will make use of a powerful traditional ML technique, a gradient boosting regressor from [LightGBM](https://lightgbm.readthedocs.io/en/stable/). You can use any of the classes in `openadmet.models.architecture`"
   ]
  },
  {
   "cell_type": "code",
   "execution_count": null,
   "id": "0c644ebf-c7d6-4b50-9c97-f1cd5177dfaa",
   "metadata": {},
   "outputs": [],
   "source": [
    "anvil_wf = AnvilWorkflow(metadata=metadata_instance,\n",
    "                        data_spec=data_instance,\n",
    "                        feat=\n",
    "                        split=split_instance,\n",
    "                        model=model_instance,\n",
    "                        trainer=trainer_instance,\n",
    "                        evals=evals)"
   ]
  }
 ],
 "metadata": {
  "kernelspec": {
   "display_name": "Python 3 (ipykernel)",
   "language": "python",
   "name": "python3"
  },
  "language_info": {
   "codemirror_mode": {
    "name": "ipython",
    "version": 3
   },
   "file_extension": ".py",
   "mimetype": "text/x-python",
   "name": "python",
   "nbconvert_exporter": "python",
   "pygments_lexer": "ipython3",
   "version": "3.12.11"
  }
 },
 "nbformat": 4,
 "nbformat_minor": 5
}
