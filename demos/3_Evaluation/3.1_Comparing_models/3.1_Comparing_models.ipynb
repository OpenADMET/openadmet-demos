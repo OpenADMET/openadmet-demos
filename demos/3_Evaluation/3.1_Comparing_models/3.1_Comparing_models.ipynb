{
 "cells": [
  {
   "cell_type": "markdown",
   "id": "de6fae82",
   "metadata": {},
   "source": [
    "# 3.1 Comparing models\n",
    "### Background\n",
    "After training multiple models with Anvil, you will want to compare the performance across models in a robust way. We closely follow the guidlines laid out in [this paper](https://chemrxiv.org/engage/chemrxiv/article-details/672a91bd7be152b1d01a926b). Consider the below decision chart for helping figure out which models to compare:\n",
    "\n",
    "<div style=\"text-align: center\">\n",
    "<img src=\"comparison_guidelines.png\" alt=\"Model comparison\" width=\"500\"/>.  \n",
    "</div>\n",
    "\n",
    "### Requirements\n",
    "For this demo, you will need:\n",
    "1. At least 2 models trained with the Anvil workflow.\n",
    "## 1. Overview\n",
    "This notebook will walk you through how to use the OpenADMET CLI to evaluate models that have been trained with the Anvil workflow. In this particular demo, we will compare the two models we trained in `2.1_Training_models_with_Anvil.ipynb`: LightGBM and Chemprop.\n",
    "\n",
    "## 2. Comparing the models\n",
    "As with training models with Anvil, comparing models is also a simple command with the following arguments:\n",
    "```bash\n",
    "openadmet compare \\\n",
    "--model-stats <path-1/cross_validation_metrics.json> \\ # this is the path to the cross_validation_metrics.json file output by anvil of your first model\n",
    "--model-tag <a-tag-to-label-your-trained-model-1> \\ # this can be any moniker that is distinguishable for you\n",
    "--task-name <name-of-task-1> \\ # this is the name of your target_cols from the anvil recipe.yaml\n",
    "\\\n",
    "--model-stats <path-2/cross_validation_metrics.json> \\ # corresponding info for your second model\n",
    "--model-tag <a-tag-to-label-your-trained-model-2> \\\n",
    "--task-name <name-of-task-2> \\\n",
    "... repeat this set of arguments for as many models as you want to compare\n",
    "--output-dir <path-to-output-plots> \\ # this is an existing directory for your plot to export to\n",
    "--report <whether-or-not-to-write-pdf-report>\n",
    "```\n",
    "**IMPORTANT NOTE** You can only compare models that have the same number of cross validation folds, e.g. a model with `5 splits x 2 repeats` can only be compared to another model that is also cross validated with `5 splits x 2 repeats`.\n",
    "For this demo, this command is:"
   ]
  },
  {
   "cell_type": "code",
   "execution_count": 1,
   "id": "24ab721e",
   "metadata": {},
   "outputs": [
    {
     "name": "stderr",
     "output_type": "stream",
     "text": [
      "/Users/cynthiaxu/miniconda3/envs/openadmet/lib/python3.12/site-packages/seaborn/_oldcore.py:1119: FutureWarning: use_inf_as_na option is deprecated and will be removed in a future version. Convert inf values to NaN before operating instead.\n",
      "  with pd.option_context('mode.use_inf_as_na', True):\n",
      "/Users/cynthiaxu/miniconda3/envs/openadmet/lib/python3.12/site-packages/seaborn/_oldcore.py:1119: FutureWarning: use_inf_as_na option is deprecated and will be removed in a future version. Convert inf values to NaN before operating instead.\n",
      "  with pd.option_context('mode.use_inf_as_na', True):\n",
      "/Users/cynthiaxu/miniconda3/envs/openadmet/lib/python3.12/site-packages/seaborn/_oldcore.py:1119: FutureWarning: use_inf_as_na option is deprecated and will be removed in a future version. Convert inf values to NaN before operating instead.\n",
      "  with pd.option_context('mode.use_inf_as_na', True):\n",
      "/Users/cynthiaxu/miniconda3/envs/openadmet/lib/python3.12/site-packages/seaborn/_oldcore.py:1119: FutureWarning: use_inf_as_na option is deprecated and will be removed in a future version. Convert inf values to NaN before operating instead.\n",
      "  with pd.option_context('mode.use_inf_as_na', True):\n",
      "/Users/cynthiaxu/miniconda3/envs/openadmet/lib/python3.12/site-packages/seaborn/_oldcore.py:1119: FutureWarning: use_inf_as_na option is deprecated and will be removed in a future version. Convert inf values to NaN before operating instead.\n",
      "  with pd.option_context('mode.use_inf_as_na', True):\n",
      "/Users/cynthiaxu/Documents/Coding Projects/OMSF/openadmet-models/openadmet/models/comparison/posthoc.py:411: FutureWarning: Setting an item of incompatible dtype is deprecated and will raise an error in a future version of pandas. Value '***' has dtype incompatible with float64, please explicitly cast to a compatible dtype first.\n",
      "  significance[(hsd.pvalue < self.sig_levels[2]) & (hsd.pvalue >= 0)] = \"***\"\n",
      "/Users/cynthiaxu/Documents/Coding Projects/OMSF/openadmet-models/openadmet/models/comparison/posthoc.py:411: FutureWarning: Setting an item of incompatible dtype is deprecated and will raise an error in a future version of pandas. Value '***' has dtype incompatible with float64, please explicitly cast to a compatible dtype first.\n",
      "  significance[(hsd.pvalue < self.sig_levels[2]) & (hsd.pvalue >= 0)] = \"***\"\n",
      "/Users/cynthiaxu/Documents/Coding Projects/OMSF/openadmet-models/openadmet/models/comparison/posthoc.py:411: FutureWarning: Setting an item of incompatible dtype is deprecated and will raise an error in a future version of pandas. Value '***' has dtype incompatible with float64, please explicitly cast to a compatible dtype first.\n",
      "  significance[(hsd.pvalue < self.sig_levels[2]) & (hsd.pvalue >= 0)] = \"***\"\n",
      "/Users/cynthiaxu/Documents/Coding Projects/OMSF/openadmet-models/openadmet/models/comparison/posthoc.py:411: FutureWarning: Setting an item of incompatible dtype is deprecated and will raise an error in a future version of pandas. Value '***' has dtype incompatible with float64, please explicitly cast to a compatible dtype first.\n",
      "  significance[(hsd.pvalue < self.sig_levels[2]) & (hsd.pvalue >= 0)] = \"***\"\n",
      "/Users/cynthiaxu/Documents/Coding Projects/OMSF/openadmet-models/openadmet/models/comparison/posthoc.py:411: FutureWarning: Setting an item of incompatible dtype is deprecated and will raise an error in a future version of pandas. Value '***' has dtype incompatible with float64, please explicitly cast to a compatible dtype first.\n",
      "  significance[(hsd.pvalue < self.sig_levels[2]) & (hsd.pvalue >= 0)] = \"***\"\n"
     ]
    },
    {
     "name": "stdout",
     "output_type": "stream",
     "text": [
      "Levene's test results\n",
      "-------------------------\n",
      "+-----------+-----------+----------+----------+-------------+\n",
      "|       mse |       mae |       r2 |     ktau |   spearmanr |\n",
      "|-----------+-----------+----------+----------+-------------|\n",
      "| 6.80603   | 3.71671   | 1.18886  | 0.210189 |    0.400492 |\n",
      "| 0.0177661 | 0.0697995 | 0.289942 | 0.652106 |    0.534793 |\n",
      "+-----------+-----------+----------+----------+-------------+\n",
      "\n",
      "Tukey's HSD results\n",
      "-------------------------\n",
      "+---------------+-----------+-----------+-------------+-------------+\n",
      "| method        | metric    |     value |   errorbars |     p-value |\n",
      "|---------------+-----------+-----------+-------------+-------------|\n",
      "| lgbm-chemprop | mse       | -0.227728 |   0.0713879 | 2.76495e-06 |\n",
      "| lgbm-chemprop | mae       | -0.125671 |   0.0309857 | 9.86736e-08 |\n",
      "| lgbm-chemprop | r2        |  0.333783 |   0.0911281 | 4.24207e-07 |\n",
      "| lgbm-chemprop | ktau      |  0.147616 |   0.0372833 | 1.40001e-07 |\n",
      "| lgbm-chemprop | spearmanr |  0.176311 |   0.0491935 | 5.7438e-07  |\n",
      "+---------------+-----------+-----------+-------------+-------------+\n"
     ]
    }
   ],
   "source": [
    "%%bash\n",
    "openadmet compare \\\n",
    "    --model-stats ../2.1_Training_models_with_Anvil/anvil_training/cross_validation_metrics.json \\\n",
    "    --model-tag lgbm \\\n",
    "    --task-name OPENADMET_LOGAC50 \\\n",
    "    --model-stats ../2.1_Training_models_with_Anvil/anvil_training_2025-07-14_86073d/cross_validation_metrics.json \\\n",
    "    --model-tag chemprop \\\n",
    "    --task-name OPENADMET_LOGAC50 \\\n",
    "    --output-dir model_comparisons/ \\\n",
    "    --report True"
   ]
  },
  {
   "cell_type": "markdown",
   "id": "4cf35ff7",
   "metadata": {},
   "source": [
    "Now, in model comparisons, you should find these outputs:\n",
    "- `Levene.json` - file containing results of Levene test which assesses homogeneity of variances among groups\n",
    "- `Tukey_HSD.json` - file containing confidence intervals for Tukey HSD (honestly significant difference) test for pairwise comparisons between models\n",
    "- `anova.pdf` - ANOVA (analsyis of variance) plot showing whether each metric across all the compared models are statistically signficantly different; p-value ≤ 0.05\n",
    "- `mcs_plots.pdf`- multiple comparisons similarity plot where the color denotes effect size and asterisk annotations denote statistical significance\n",
    "- `mean_diffs.pdf`- plot of confidence intervals of the difference in mean performance between models; intervals that do not cross the zero line imply statistical significance\n",
    "- `normality_plots.pdf` - plots to show how normal the distribution of metrics are to check assumptions of parametric tests, e.g. ANOVA, etc.\n",
    "- `paired_plots.pdf` - plots to check pairwise relationships between metrics across the comparing models\n",
    "- `posthoc.pdf` - a file containing the tabulated Levene and Tukey HSD results "
   ]
  },
  {
   "cell_type": "markdown",
   "id": "b1283cfb",
   "metadata": {},
   "source": [
    "✨✨✨✨✨✨✨"
   ]
  }
 ],
 "metadata": {
  "kernelspec": {
   "display_name": "Python 3 (ipykernel)",
   "language": "python",
   "name": "python3"
  },
  "language_info": {
   "codemirror_mode": {
    "name": "ipython",
    "version": 3
   },
   "file_extension": ".py",
   "mimetype": "text/x-python",
   "name": "python",
   "nbconvert_exporter": "python",
   "pygments_lexer": "ipython3",
   "version": "3.12.10"
  }
 },
 "nbformat": 4,
 "nbformat_minor": 5
}
